{
 "cells": [
  {
   "cell_type": "code",
   "execution_count": 18,
   "metadata": {},
   "outputs": [
    {
     "name": "stdout",
     "output_type": "stream",
     "text": [
      "Test for String Functions\n"
     ]
    }
   ],
   "source": [
    "print (\"Test for String Functions\")"
   ]
  },
  {
   "cell_type": "code",
   "execution_count": 27,
   "metadata": {},
   "outputs": [
    {
     "name": "stdout",
     "output_type": "stream",
     "text": [
      "Initcap test: Anis Ahmed\n",
      "Upper case test: ANIS AHMED\n",
      "Lower case test: anis ahmed\n"
     ]
    }
   ],
   "source": [
    "name = \"anis ahmed\"\n",
    "print(\"Initcap test:\",name.title())\n",
    "print(\"Upper case test:\", name.upper())\n",
    "print(\"Lower case test:\",name.lower())\n"
   ]
  },
  {
   "cell_type": "code",
   "execution_count": 26,
   "metadata": {},
   "outputs": [
    {
     "name": "stdout",
     "output_type": "stream",
     "text": [
      "Before ltrim:      ltrim test in python\n",
      "After ltrim: ltrim test in python\n",
      "Before rtrim: rtrim test in python\n",
      "After rtrim: rtrim test in python\n"
     ]
    }
   ],
   "source": [
    "\n",
    "name = \"     ltrim test in python\"\n",
    "print(\"Before ltrim:\",name)\n",
    "print(\"After ltrim:\",name.lstrip())\n",
    "\n",
    "\n",
    "name = \"rtrim test in python\"\n",
    "print(\"Before rtrim:\",name)\n",
    "print(\"After rtrim:\",name.rstrip())"
   ]
  },
  {
   "cell_type": "code",
   "execution_count": 28,
   "metadata": {},
   "outputs": [
    {
     "name": "stdout",
     "output_type": "stream",
     "text": [
      "Test for \\n\\t\n",
      "\tOption A:Cricket\n",
      "\tOption B:FootBall\n",
      "\tOption C:Tennis\n"
     ]
    }
   ],
   "source": [
    "print (\"Test for \\\\n\\\\t\")\n",
    "print(\"\\tOption A:Cricket\\n\\tOption B:FootBall\\n\\tOption C:Tennis\")\n"
   ]
  },
  {
   "cell_type": "code",
   "execution_count": 32,
   "metadata": {},
   "outputs": [
    {
     "name": "stdout",
     "output_type": "stream",
     "text": [
      "F funtionality test\n",
      "Well Played MS Dhoni\n"
     ]
    }
   ],
   "source": [
    "print (\"F funtionality test\")\n",
    "name = \"MS Dhoni\"\n",
    "print(F\"Well Played {name}\")"
   ]
  },
  {
   "cell_type": "code",
   "execution_count": null,
   "metadata": {},
   "outputs": [],
   "source": []
  },
  {
   "cell_type": "code",
   "execution_count": null,
   "metadata": {},
   "outputs": [],
   "source": []
  }
 ],
 "metadata": {
  "kernelspec": {
   "display_name": "Python 3",
   "language": "python",
   "name": "python3"
  },
  "language_info": {
   "codemirror_mode": {
    "name": "ipython",
    "version": 3
   },
   "file_extension": ".py",
   "mimetype": "text/x-python",
   "name": "python",
   "nbconvert_exporter": "python",
   "pygments_lexer": "ipython3",
   "version": "3.8.5"
  }
 },
 "nbformat": 4,
 "nbformat_minor": 4
}
