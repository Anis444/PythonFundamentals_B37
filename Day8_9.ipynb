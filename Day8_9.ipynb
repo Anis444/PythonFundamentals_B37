{
 "cells": [
  {
   "cell_type": "code",
   "execution_count": 20,
   "metadata": {},
   "outputs": [
    {
     "name": "stdout",
     "output_type": "stream",
     "text": [
      "{'Model': 'iphone', 'Version': '12 Pro'}\n"
     ]
    }
   ],
   "source": [
    "#Keyvalue pair testing \n",
    "\n",
    "MobileInfo = {\"Model\":\"iphone\",\"Version\" : \"12 Pro\"}\n",
    "type(MobileInfo)\n",
    "print(MobileInfo)\n"
   ]
  },
  {
   "cell_type": "code",
   "execution_count": 21,
   "metadata": {},
   "outputs": [
    {
     "name": "stdout",
     "output_type": "stream",
     "text": [
      "{'Model': 'iphone', 'Version': '12 Pro', 'color': 'red'}\n"
     ]
    }
   ],
   "source": [
    "#add few more \n",
    "MobileInfo[\"color\"]= \"red\"\n",
    "print(MobileInfo)"
   ]
  },
  {
   "cell_type": "code",
   "execution_count": 22,
   "metadata": {},
   "outputs": [
    {
     "name": "stdout",
     "output_type": "stream",
     "text": [
      "{'Model': 'Honor View', 'Version': '40', 'color': 'Black'}\n"
     ]
    }
   ],
   "source": [
    "#change existing values\n",
    "MobileInfo[\"Model\"] = \"Honor View\"\n",
    "MobileInfo[\"Version\"] =\"40\"\n",
    "MobileInfo[\"color\"] =\"Black\"\n",
    "print(MobileInfo)\n",
    "\n"
   ]
  },
  {
   "cell_type": "code",
   "execution_count": 24,
   "metadata": {},
   "outputs": [
    {
     "name": "stdout",
     "output_type": "stream",
     "text": [
      "{'Model': 'Honor View', 'Version': '40'}\n"
     ]
    }
   ],
   "source": [
    "#delete key value\n",
    "del MobileInfo['color']\n",
    "print(MobileInfo)\n"
   ]
  },
  {
   "cell_type": "code",
   "execution_count": 30,
   "metadata": {},
   "outputs": [
    {
     "name": "stdout",
     "output_type": "stream",
     "text": [
      "Audi\n",
      "BMW\n",
      "Benz\n",
      "Citreon\n",
      "Volkswagen\n"
     ]
    }
   ],
   "source": [
    "#for loop and conditional checking\n",
    "\n",
    "cars = ['audi','bmw','benz','citreon','volkswagen']\n",
    "\n",
    "for x in cars:\n",
    "  if (x =='bmw'):\n",
    "    print(x.upper())\n",
    "  else:\n",
    "    print(x.title())\n",
    "    \n",
    "    "
   ]
  },
  {
   "cell_type": "code",
   "execution_count": 32,
   "metadata": {},
   "outputs": [
    {
     "name": "stdout",
     "output_type": "stream",
     "text": [
      "Enter your name : Anis\n",
      "Your name is Anis\n"
     ]
    }
   ],
   "source": [
    "#accepting user input\n",
    "name = input(\"Enter your name : \")\n",
    "print(f\"Your name is {name}\")"
   ]
  },
  {
   "cell_type": "code",
   "execution_count": 6,
   "metadata": {},
   "outputs": [
    {
     "name": "stdout",
     "output_type": "stream",
     "text": [
      "we need some information from you -Enter your name: Rajesh\n",
      "Your name is Rajesh\n",
      "Enter your age: 32\n",
      "Your age is 32\n"
     ]
    }
   ],
   "source": [
    "Message = \"we need some information from you -\"\n",
    "Message +=\"Enter your name: \"\n",
    "name = input(Message)\n",
    "print(f\"Your name is {name}\")\n",
    "\n",
    "Message =\"Enter your age: \"\n",
    "age = input(Message)\n",
    "age = int(age)\n",
    "print(f\"Your age is {age}\")\n"
   ]
  },
  {
   "cell_type": "code",
   "execution_count": null,
   "metadata": {},
   "outputs": [],
   "source": []
  },
  {
   "cell_type": "code",
   "execution_count": null,
   "metadata": {},
   "outputs": [],
   "source": []
  },
  {
   "cell_type": "code",
   "execution_count": null,
   "metadata": {},
   "outputs": [],
   "source": []
  },
  {
   "cell_type": "code",
   "execution_count": null,
   "metadata": {},
   "outputs": [],
   "source": []
  }
 ],
 "metadata": {
  "kernelspec": {
   "display_name": "Python 3",
   "language": "python",
   "name": "python3"
  },
  "language_info": {
   "codemirror_mode": {
    "name": "ipython",
    "version": 3
   },
   "file_extension": ".py",
   "mimetype": "text/x-python",
   "name": "python",
   "nbconvert_exporter": "python",
   "pygments_lexer": "ipython3",
   "version": "3.8.5"
  }
 },
 "nbformat": 4,
 "nbformat_minor": 4
}
