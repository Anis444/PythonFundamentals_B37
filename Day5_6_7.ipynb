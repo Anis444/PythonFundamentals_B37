{
 "cells": [
  {
   "cell_type": "code",
   "execution_count": 25,
   "metadata": {},
   "outputs": [
    {
     "name": "stdout",
     "output_type": "stream",
     "text": [
      "welcome to List Sorted/Sorting\n",
      "This is temporary sort\n",
      "['Kishan', 'Kohli', 'Rahul', 'Surya']\n",
      "The actuals has not changed..\n",
      "['Rahul', 'Kishan', 'Kohli', 'Surya']\n",
      "This is Permanent sort\n",
      "['Kishan', 'Kohli', 'Rahul', 'Surya']\n"
     ]
    }
   ],
   "source": [
    "print(\"welcome to List Sorted/Sorting\")\n",
    "cricketers = ['Rahul','Kishan','Kohli','Surya']\n",
    "print(\"This is temporary sort\")\n",
    "print(sorted(cricketers))\n",
    "print(\"The actuals has not changed..\")\n",
    "print(cricketers)\n",
    "\n",
    "print(\"This is Permanent sort\")\n",
    "cricketers.sort()\n",
    "print(cricketers)\n"
   ]
  },
  {
   "cell_type": "code",
   "execution_count": 23,
   "metadata": {},
   "outputs": [
    {
     "name": "stdout",
     "output_type": "stream",
     "text": [
      "The length of List is: 4\n",
      "The reverse order is: ['Surya', 'Rahul', 'Kohli', 'Kishan']\n"
     ]
    }
   ],
   "source": [
    "#count the number of elements\n",
    "print(f\"The length of List is: {len(cricketers)}\")\n",
    "\n",
    "#print in reverse order\n",
    "cricketers.reverse()\n",
    "print(f\"The reverse order is: {cricketers}\")\n",
    "\n"
   ]
  },
  {
   "cell_type": "code",
   "execution_count": 43,
   "metadata": {},
   "outputs": [
    {
     "name": "stdout",
     "output_type": "stream",
     "text": [
      "Well played Kishan!\n",
      "Well played Kohli!\n",
      "Well played Rahul!\n",
      "Well played Surya!\n"
     ]
    }
   ],
   "source": [
    "#for loop testing \n",
    "\n",
    "for x in cricketers:\n",
    "    print(f\"Well played {x}!\")\n",
    "    "
   ]
  },
  {
   "cell_type": "code",
   "execution_count": 32,
   "metadata": {},
   "outputs": [
    {
     "name": "stdout",
     "output_type": "stream",
     "text": [
      "Tuple = ('India', 'Srilanka', 'Bangladesh', 'Pakistan')\n",
      "Tuple changed entirely =('India', 'Australia', 'South Africa', 'West Indies')\n"
     ]
    }
   ],
   "source": [
    "#tuple test - cannot be changed - can be rebuilt again\n",
    "country = ('India','Srilanka','Bangladesh','Pakistan')\n",
    "type(country)\n",
    "print(f\"Tuple = {country}\")\n",
    "country = ('India','Australia','South Africa','West Indies')\n",
    "print(f\"Tuple changed entirely ={country}\")"
   ]
  },
  {
   "cell_type": "code",
   "execution_count": 42,
   "metadata": {},
   "outputs": [
    {
     "name": "stdout",
     "output_type": "stream",
     "text": [
      "Keyvalue for City= Bangalore\n"
     ]
    }
   ],
   "source": [
    "#dictionary test (dict)\n",
    "\n",
    "keypair = {'City':'Bangalore','Pin':'560001'}\n",
    "print(f\"Keyvalue for City= {keypair['City']}\")\n"
   ]
  },
  {
   "cell_type": "code",
   "execution_count": null,
   "metadata": {},
   "outputs": [],
   "source": []
  },
  {
   "cell_type": "code",
   "execution_count": null,
   "metadata": {},
   "outputs": [],
   "source": []
  },
  {
   "cell_type": "code",
   "execution_count": null,
   "metadata": {},
   "outputs": [],
   "source": []
  }
 ],
 "metadata": {
  "kernelspec": {
   "display_name": "Python 3",
   "language": "python",
   "name": "python3"
  },
  "language_info": {
   "codemirror_mode": {
    "name": "ipython",
    "version": 3
   },
   "file_extension": ".py",
   "mimetype": "text/x-python",
   "name": "python",
   "nbconvert_exporter": "python",
   "pygments_lexer": "ipython3",
   "version": "3.8.5"
  }
 },
 "nbformat": 4,
 "nbformat_minor": 4
}
