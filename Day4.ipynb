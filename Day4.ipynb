{
 "cells": [
  {
   "cell_type": "code",
   "execution_count": 1,
   "metadata": {},
   "outputs": [
    {
     "name": "stdout",
     "output_type": "stream",
     "text": [
      "welcome to List\n"
     ]
    }
   ],
   "source": [
    "print(\"welcome to List\")"
   ]
  },
  {
   "cell_type": "code",
   "execution_count": 1,
   "metadata": {},
   "outputs": [
    {
     "data": {
      "text/plain": [
       "list"
      ]
     },
     "execution_count": 1,
     "metadata": {},
     "output_type": "execute_result"
    }
   ],
   "source": [
    "cricketers = ['Rahul','Kishan','Kohli','Surya']\n",
    "type(cricketers)\n"
   ]
  },
  {
   "cell_type": "code",
   "execution_count": 3,
   "metadata": {},
   "outputs": [
    {
     "name": "stdout",
     "output_type": "stream",
     "text": [
      "Append an element in the list\n",
      "['Rahul', 'Kishan', 'Kohli', 'surya', 'washington', 'washington']\n",
      "Insert an element in the list\n",
      "['Rahul', 'Kishan', 'Kohli', 'Takur', 'surya', 'washington', 'washington']\n",
      "Modify an element in the list\n",
      "['Rahul', 'Kishan', 'Kohli', 'Dawan', 'surya', 'washington', 'washington']\n",
      "Delete an element in the list\n",
      "['Rahul', 'Kishan', 'Kohli', 'surya', 'washington', 'washington']\n"
     ]
    }
   ],
   "source": [
    "print(\"Append an element in the list\")\n",
    "cricketers.append('washington')\n",
    "print(cricketers)\n",
    "\n",
    "print(\"Insert an element in the list\")\n",
    "cricketers.insert(3,'Takur')\n",
    "print(cricketers)\n",
    "\n",
    "print(\"Modify an element in the list\")\n",
    "cricketers[3]='Dawan'\n",
    "print(cricketers)\n",
    "\n",
    "print(\"Delete an element in the list\")\n",
    "del  cricketers[3]\n",
    "print(cricketers)"
   ]
  },
  {
   "cell_type": "code",
   "execution_count": null,
   "metadata": {},
   "outputs": [],
   "source": []
  },
  {
   "cell_type": "code",
   "execution_count": null,
   "metadata": {},
   "outputs": [],
   "source": []
  },
  {
   "cell_type": "code",
   "execution_count": null,
   "metadata": {},
   "outputs": [],
   "source": []
  }
 ],
 "metadata": {
  "kernelspec": {
   "display_name": "Python 3",
   "language": "python",
   "name": "python3"
  },
  "language_info": {
   "codemirror_mode": {
    "name": "ipython",
    "version": 3
   },
   "file_extension": ".py",
   "mimetype": "text/x-python",
   "name": "python",
   "nbconvert_exporter": "python",
   "pygments_lexer": "ipython3",
   "version": "3.8.5"
  }
 },
 "nbformat": 4,
 "nbformat_minor": 4
}
